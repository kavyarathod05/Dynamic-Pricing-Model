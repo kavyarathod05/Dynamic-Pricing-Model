{
 "cells": [
  {
   "cell_type": "code",
   "execution_count": 1,
   "id": "017d61b4-4046-4302-8bfd-854d32ef5cac",
   "metadata": {},
   "outputs": [],
   "source": [
    "import pandas as pd\n",
    "import numpy as np\n",
    "import matplotlib.pyplot as plt\n",
    "import seaborn as sns\n",
    "\n",
    "df=pd.read_csv('retail_store_inventory.csv')\n",
    "\n",
    "df.head(10)\n",
    "\n",
    "df.drop(columns=['Category','Region'], inplace=True)\n",
    "\n",
    "df.drop(columns=['Holiday/Promotion'], inplace=True)\n",
    "\n",
    "df.isnull().sum()\n",
    "\n",
    "df.dropna(inplace=True)\n",
    "\n",
    "df.head()\n",
    "\n",
    "from sklearn.preprocessing import OneHotEncoder, StandardScaler\n",
    "from sklearn.compose import ColumnTransformer\n",
    "from sklearn.pipeline import Pipeline\n",
    "from sklearn.model_selection import train_test_split\n",
    "\n",
    "# Feature and target separation\n",
    "X = df.drop(['Discount', 'Demand Forecast'], axis=1)\n",
    "y_discount = df['Discount']\n",
    "y_demand = df['Demand Forecast']\n",
    "\n",
    "# Identify categorical and numerical columns\n",
    "categorical_cols = ['Store ID', 'Product ID', 'Weather Condition', 'Seasonality']\n",
    "numerical_cols = ['Inventory Level', 'Units Sold', 'Units Ordered', 'Price', 'Competitor Pricing']\n",
    "\n",
    "# Define preprocessor (only fit once)\n",
    "preprocessor = ColumnTransformer(\n",
    "    transformers=[\n",
    "        ('num', StandardScaler(), numerical_cols),\n",
    "        ('cat', OneHotEncoder(handle_unknown='ignore'), categorical_cols)\n",
    "    ]\n",
    ")\n",
    "\n",
    "# Train-test split\n",
    "X_train, X_test, y_train_d, y_test_d = train_test_split(X, y_discount, test_size=0.2, random_state=42)\n",
    "_, _, y_train_f, y_test_f = train_test_split(X, y_demand, test_size=0.2, random_state=42)\n",
    "\n",
    "# Fit preprocessor on the entire training data\n",
    "X_train_transformed = preprocessor.fit_transform(X_train)\n",
    "X_test_transformed = preprocessor.transform(X_test)\n",
    "\n",
    "# Use the same transformed data for both targets\n",
    "X_train_d = X_train_transformed\n",
    "X_train_f = X_train_transformed\n",
    "X_test_d = X_test_transformed\n",
    "X_test_f = X_test_transformed\n",
    "\n",
    "X_train_d.toarray()\n",
    "\n",
    "X_test_d.shape\n",
    "\n",
    "from sklearn.ensemble import StackingRegressor\n",
    "from sklearn.ensemble import RandomForestRegressor, GradientBoostingRegressor\n",
    "from xgboost import XGBRegressor\n",
    "from lightgbm import LGBMRegressor\n",
    "from sklearn.linear_model import LinearRegression\n",
    "from sklearn.metrics import mean_absolute_error, mean_squared_error, r2_score\n",
    "import numpy as np\n",
    "\n",
    "# Function to evaluate models\n",
    "def evaluate_model(y_true, y_pred, model_name):\n",
    "    mae = mean_absolute_error(y_true, y_pred)\n",
    "    rmse = np.sqrt(mean_squared_error(y_true, y_pred))\n",
    "    r2 = r2_score(y_true, y_pred)\n",
    "    mape = np.mean(np.abs((y_true - y_pred) / y_true)) * 100\n",
    "    accuracy = 100 - mape\n",
    "    print(f\"{model_name} - MAE: {mae:.2f}, RMSE: {rmse:.2f}, R²: {r2:.4f}, Accuracy: {accuracy:.2f}%\")\n",
    "\n",
    "# Base models for stacking\n",
    "base_models = [\n",
    "    ('lgbm', LGBMRegressor(n_estimators=200, learning_rate=0.05, max_depth=5, subsample=0.8)),\n",
    "    ('xgb', XGBRegressor(n_estimators=200, learning_rate=0.05, max_depth=5, subsample=0.8)),\n",
    "    ('rf', RandomForestRegressor(n_estimators=200, max_depth=10)),\n",
    "    ('gb', GradientBoostingRegressor(n_estimators=200, learning_rate=0.05, max_depth=5))\n",
    "]\n",
    "\n",
    "# Meta-model (Linear Regression for final prediction)\n",
    "meta_model = LinearRegression()\n",
    "\n",
    "# Stacking Regressors for Demand and Discount\n",
    "demand_model = StackingRegressor(estimators=base_models, final_estimator=meta_model)\n",
    "discount_model = StackingRegressor(estimators=base_models, final_estimator=meta_model)\n"
   ]
  },
  {
   "cell_type": "code",
   "execution_count": null,
   "id": "a9d2866a-ea1c-4791-81a1-d8d5fac92ab2",
   "metadata": {},
   "outputs": [],
   "source": [
    "df\n"
   ]
  },
  {
   "cell_type": "code",
   "execution_count": null,
   "id": "930d50d7-af43-4a3e-980b-a631acf1b05d",
   "metadata": {},
   "outputs": [],
   "source": [
    "demand_model.fit(X_train_f, y_train_f)\n",
    "discount_model.fit(X_train_d, y_train_d)"
   ]
  },
  {
   "cell_type": "code",
   "execution_count": null,
   "id": "88e70f90-f32c-430f-aaed-eb27d77b1385",
   "metadata": {},
   "outputs": [],
   "source": [
    "y_demand_pred = demand_model.predict(X_test_f)\n",
    "y_discount_pred = discount_model.predict(X_test_d)\n",
    "\n",
    "# Evaluate models\n",
    "evaluate_model(y_test_f, y_demand_pred, 'Ensemble Demand Forecast Model')\n",
    "evaluate_model(y_test_d, y_discount_pred, 'Ensemble Discount Model')"
   ]
  },
  {
   "cell_type": "code",
   "execution_count": 5,
   "id": "496535b4-4f51-48a6-9260-5ecc60c6b174",
   "metadata": {},
   "outputs": [],
   "source": [
    "import joblib\n"
   ]
  },
  {
   "cell_type": "code",
   "execution_count": 6,
   "id": "72044c27-f526-49c2-af36-a2da2222040f",
   "metadata": {},
   "outputs": [
    {
     "name": "stdout",
     "output_type": "stream",
     "text": [
      "Models saved successfully!\n"
     ]
    }
   ],
   "source": [
    "joblib.dump(demand_model, 'demand_forecast_model.pkl')\n",
    "joblib.dump(discount_model, 'discount_prediction_model.pkl')\n",
    "\n",
    "print(\"Models saved successfully!\")\n",
    "\n",
    "import joblib\n",
    "\n",
    "# Load trained models\n",
    "demand_model = joblib.load('demand_forecast_model.pkl')\n",
    "discount_model = joblib.load('discount_prediction_model.pkl')\n"
   ]
  },
  {
   "cell_type": "code",
   "execution_count": null,
   "id": "4f7e084e-51a6-4628-9124-0da22f9c4a77",
   "metadata": {},
   "outputs": [],
   "source": [
    "import pandas as pd\n",
    "\n",
    "data = pd.DataFrame([\n",
    "    {\n",
    "        'Date': '01-01-2023',\n",
    "        'Store ID': 'S001',\n",
    "        'Product ID': 'P0001',\n",
    "        'Inventory Level': 231.0,\n",
    "        'Units Sold': 127.0,\n",
    "        'Units Ordered': 55.0,\n",
    "        'Price': 33.50,\n",
    "        'Weather Condition': 'Rainy',\n",
    "\n",
    "        'Competitor Pricing': 29.69,\n",
    "        'Seasonality': 'Autumn'\n",
    "    },\n",
    "    {\n",
    "        'Date': '01-01-2023',\n",
    "        'Store ID': 'S001',\n",
    "        'Product ID': 'P0002',\n",
    "        'Inventory Level': 204.0,\n",
    "        'Units Sold': 150.0,\n",
    "        'Units Ordered': 66.0,\n",
    "        'Price': 63.01,\n",
    "        'Weather Condition': 'Sunny',\n",
    "\n",
    "        'Competitor Pricing': 66.16,\n",
    "        'Seasonality': 'Autumn'\n",
    "    }\n",
    "])\n",
    "\n",
    "# Drop target columns if present\n",
    "input_features = data.drop(columns=['Demand_Forecast', 'Discount'], errors='ignore')\n",
    "\n",
    "print(input_features)\n",
    "\n",
    "input_features=preprocessor.transform(input_features)\n",
    "predicted_demand=demand_model.predict(input_features)\n",
    "predicted_discount=discount_model.predict(input_features)\n",
    "\n",
    "preprocessor.feature_names_in_"
   ]
  },
  {
   "cell_type": "code",
   "execution_count": 8,
   "id": "5b4bd3fa-0721-467c-a506-560474351b97",
   "metadata": {},
   "outputs": [
    {
     "data": {
      "text/plain": [
       "['preprocessor.pkl']"
      ]
     },
     "execution_count": 8,
     "metadata": {},
     "output_type": "execute_result"
    }
   ],
   "source": [
    "import joblib\n",
    "joblib.dump(preprocessor, 'preprocessor.pkl')\n"
   ]
  },
  {
   "cell_type": "code",
   "execution_count": null,
   "id": "5766009d-b268-431b-980e-36924d593d8a",
   "metadata": {},
   "outputs": [],
   "source": []
  }
 ],
 "metadata": {
  "kernelspec": {
   "display_name": "Python 3 (ipykernel)",
   "language": "python",
   "name": "python3"
  },
  "language_info": {
   "codemirror_mode": {
    "name": "ipython",
    "version": 3
   },
   "file_extension": ".py",
   "mimetype": "text/x-python",
   "name": "python",
   "nbconvert_exporter": "python",
   "pygments_lexer": "ipython3",
   "version": "3.11.7"
  }
 },
 "nbformat": 4,
 "nbformat_minor": 5
}
